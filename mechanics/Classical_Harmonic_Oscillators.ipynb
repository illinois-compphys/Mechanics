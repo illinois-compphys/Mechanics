{
 "cells": [
  {
   "cell_type": "markdown",
   "metadata": {},
   "source": [
    "# Harmonic Oscillator"
   ]
  },
  {
   "cell_type": "markdown",
   "metadata": {},
   "source": [
    "#### Basic Imports:"
   ]
  },
  {
   "cell_type": "code",
   "execution_count": 1,
   "metadata": {
    "tags": [
     "hide-output"
    ]
   },
   "outputs": [],
   "source": [
    "import numpy as np\n",
    "from scipy.integrate import solve_ivp\n",
    "import matplotlib.pyplot as plt\n",
    "import matplotlib.patches as patches\n",
    "import matplotlib.animation as animation\n",
    "from IPython.display import HTML\n",
    "from scipy.signal import find_peaks\n",
    "from typing import NamedTuple\n",
    "from scipy.fft import fft, fftfreq, ifft, fftshift\n",
    "from scipy import signal\n"
   ]
  },
  {
   "cell_type": "markdown",
   "metadata": {},
   "source": [
    "#### Animation Functions:"
   ]
  },
  {
   "cell_type": "code",
   "execution_count": 2,
   "metadata": {
    "tags": [
     "hide-output",
     "hide-cell"
    ]
   },
   "outputs": [],
   "source": [
    "def draw_spring(x0, y0, x1, y1, coils=10, amplitude=0.1):\n",
    "    \"\"\"Draws a spring between (x0, y0) and (x1, y1).\"\"\"\n",
    "    num_points=500\n",
    "\n",
    "    dx = x1 - x0\n",
    "    dy = y1 - y0\n",
    "    length = np.sqrt(dx**2 + dy**2)\n",
    "    angle = np.arctan2(dy, dx)\n",
    "\n",
    "    x_line = np.linspace(x0, x1, num_points)\n",
    "    y_line = np.linspace(y0, y1, num_points)\n",
    "\n",
    "    coil_x = amplitude * np.cos(np.linspace(0, coils * 2 * np.pi, num_points))\n",
    "    coil_y = amplitude * np.sin(np.linspace(0, coils * 2 * np.pi, num_points))\n",
    "\n",
    "    x_spring = x_line + coil_x * np.cos(angle + np.pi/2)\n",
    "    y_spring = y_line + coil_y * np.sin(angle + np.pi/2)\n",
    "\n",
    "    return x_spring, y_spring  # Return the spring coordinates\n",
    "\n",
    "def draw_spring_system(spring_loc):\n",
    "    xs,ys=draw_spring(-2, 0,spring_loc ,0,coils=10)\n",
    "    plt.plot([-2.0,-2.0],[-0.25,0.25],color='red',linewidth=3,zorder=1)\n",
    "    plt.plot(xs,ys,color='blue',linewidth=2,zorder=0)\n",
    "    radius = 0.05\n",
    "    circle = patches.Circle((spring_loc,0), radius, color='blue', fill=True)\n",
    "    plt.gca().add_artist(circle)\n",
    "    plt.axis('equal')\n",
    "    plt.xlim(-3, 3)\n",
    "    plt.show()\n",
    "\n",
    "def animate_spring_system(x):\n",
    "    fig, ax = plt.subplots()\n",
    "    ax.plot([-2.0,-2.0],[-0.25,0.25],color='red',linewidth=3,zorder=1)\n",
    "    line, = ax.plot([], [], lw=2, color='blue',zorder=0)  # Initialize an empty line object\n",
    "\n",
    "    radius = 0.05\n",
    "    circle = patches.Circle((0,0), radius, color='blue', fill=True)\n",
    "    ax.add_artist(circle)\n",
    "    top_val=np.max(np.abs(x))*1.1\n",
    "    ax.set_xlim(-3, top_val)    \n",
    "    ax.set_ylim(-1, 1)  \n",
    "\n",
    "    def animate(i):\n",
    "        x1 = x[i]  # x-coordinate changes over time\n",
    "        xs, ys = draw_spring(-2, 0, x1, 0.0, coils=8, amplitude=0.10) \n",
    "        line.set_data(xs, ys)\n",
    "        circle.center = (x1,0)\n",
    "        return line,circle,\n",
    "\n",
    "    ani = animation.FuncAnimation(fig, animate, frames=len(x), blit=True, interval=20,repeat=False) \n",
    "    ###save animation as html\n",
    "    #ani.save('spring_system.html', writer='html')\n",
    "    display(HTML(ani.to_jshtml()))  \n",
    "    plt.close() "
   ]
  },
  {
   "cell_type": "markdown",
   "metadata": {},
   "source": [
    "Our goal in this assignment is to understand the Harmonic Oscillator."
   ]
  },
  {
   "cell_type": "markdown",
   "metadata": {},
   "source": [
    "## Exercise 1. A Single Spring"
   ]
  },
  {
   "cell_type": "markdown",
   "metadata": {},
   "source": [
    "### a. Simple Harmonic Oscillator"
   ]
  },
  {
   "cell_type": "markdown",
   "metadata": {
    "id": "942RpVQGf6Dr"
   },
   "source": [
    "In this part, we will be working with a simple harmonic oscillator.  For the moment, we should think of this as a spring connected to a wall on one end and to a mass $m$ on the other.  We choose the natural equilibrium length of the spring to be 2 and let the x-coordinate at the equilbrium length to be $x=0$ (so the deviation from the equilibrium and the x-coordinate match up).  To draw this spring go ahead an plot\n",
    "```python\n",
    "draw_spring_system(0)\n",
    "```\n",
    "where the 0 represents that it is at $x=0$."
   ]
  },
  {
   "cell_type": "markdown",
   "metadata": {},
   "source": [
    " <div><img src=\"https://clark.physics.illinois.edu/246img/AnsStart.svg\" width=200 align=left alt=\"Answer (start)\"></img><br></div>"
   ]
  },
  {
   "cell_type": "code",
   "execution_count": null,
   "metadata": {
    "tags": [
     "answer-cell"
    ]
   },
   "outputs": [],
   "source": [
    "###ANSWER HERE"
   ]
  },
  {
   "cell_type": "markdown",
   "metadata": {},
   "source": [
    " <div><img src=\"https://clark.physics.illinois.edu/246img/AnsEnd.svg\" width=200 align=left alt=\"Answer (start)\"></img><br></div>"
   ]
  },
  {
   "cell_type": "markdown",
   "metadata": {},
   "source": [
    "The relevant differential equation for the simple Harmonic oscillator is \n",
    "\n",
    "$$\n",
    "m \\ddot{x} = -k x\n",
    "$$\n",
    "\n",
    "where $x$ represents the amount the spring is displaced away from its equilibrium position.  \n",
    "\n",
    "To solve this with python, it will be convenient to instead write it out as two first-order equations, \n",
    "\n",
    "$$\\begin{align}\n",
    "\\dot{x} &= v \\\\\n",
    "\\dot{v} &= -\\frac{k}{m} x\n",
    "\\end{align}\n",
    "$$\n",
    "\n",
    "where $v$ is the velocity of the mass.  \n",
    "\n",
    "These equations can be directly translated into python: \n",
    "\n",
    "```python\n",
    "def equations(t,state,k,m):\n",
    "  x,v = state\n",
    "  x_dot = v\n",
    "  v_dot = -k/m*x\n",
    "  return [x_dot,v_dot]\n",
    "```\n",
    "\n",
    "We can now get python to solve this differential equation for us. \n",
    "First, we need to give it some initial conditions. For example, we can stretch the spring out to $x=1$ and set the initial velocity to $v=0$ by writing\n",
    "```python\n",
    "initial_state = [1, 0]\n",
    "```\n",
    "Then we need to specify for which times $t$ we want to evaluate our differential equation with respect to. Here let's choose a grid of 400 time points between 0 and $25\\pi$ as\n",
    "```python\n",
    "t = np.linspace(0, 25*np.pi, 400)\n",
    "```\n",
    "\n",
    "Finally, we need to pick some values for the parameters\n",
    "```python\n",
    "k = 1.3\n",
    "m = 2.25\n",
    "```\n",
    "\n",
    "We can now solve our differential equation with\n",
    "```python\n",
    "sol = solve_ivp(equations,[t[0], t[-1]],initial_state,t_eval=t,args=(k,m,))\n",
    "x = sol.y[0]\n",
    "v = sol.y[1]\n",
    "```\n",
    "\n",
    "Go ahead and solve this differential equation and plot it with\n",
    "```python\n",
    "fig, ax1 = plt.subplots()\n",
    "ax1.plot(t,x) #<-- This is the important line which plots.\n",
    "ax1.set_xlabel(\"t\")\n",
    "ax1.set_ylabel(\"x(t)\",color='b')\n",
    "ax1.tick_params('y', colors='b')  \n",
    "plt.show()\n",
    "```\n",
    "\n",
    "Notice that your wave-length $\\lambda = \\frac{2\\pi}{\\omega_0}$ where the natural frequency $\\omega_0 = \\sqrt{k/m}$. \n",
    "\n",
    "\n",
    "Also go ahead and plot the velocity. You can plot it separately or if you want to plot it on the same figure so you can match the velocity and time before the `plt.show()` go ahead and do\n",
    "```python\n",
    "ax2 = plt.gca().twinx()  \n",
    "ax2.plot(t, v, 'r-',alpha=0.2)  #<--- you can turn up the alpha if it's too dim but I find it annoying to have them both be strong  \n",
    "ax2.set_ylabel('v(t)', color='r') \n",
    "ax2.tick_params('y', colors='r') \n",
    "```\n"
   ]
  },
  {
   "cell_type": "markdown",
   "metadata": {},
   "source": [
    " <div><img src=\"https://clark.physics.illinois.edu/246img/AnsStart.svg\" width=200 align=left alt=\"Answer (start)\"></img><br></div>"
   ]
  },
  {
   "cell_type": "code",
   "execution_count": null,
   "metadata": {
    "tags": [
     "answer-cell"
    ]
   },
   "outputs": [],
   "source": [
    "###ANSWER HERE"
   ]
  },
  {
   "cell_type": "markdown",
   "metadata": {},
   "source": [
    " <div><img src=\"https://clark.physics.illinois.edu/246img/AnsEnd.svg\" width=200 align=left alt=\"Answer (end)\"></img><br></div>"
   ]
  },
  {
   "cell_type": "markdown",
   "metadata": {},
   "source": [
    "### b.  Computing the energy"
   ]
  },
  {
   "cell_type": "markdown",
   "metadata": {},
   "source": [
    "Compute the energy \n",
    "$$\n",
    "E = \\frac{1}{2}mv^2 + \\frac{1}{2}kx^2\n",
    "$$\n",
    "\n",
    "of your system and show that it is constant. Beware of the plot scale; it helps if you keep your y-limit from zero to one - i.e. `ax1.set_ylim(0,1)`.\n"
   ]
  },
  {
   "cell_type": "markdown",
   "metadata": {},
   "source": [
    " <div><img src=\"https://clark.physics.illinois.edu/246img/AnsStart.svg\" width=200 align=left alt=\"Answer (start)\"></img><br></div>"
   ]
  },
  {
   "cell_type": "code",
   "execution_count": null,
   "metadata": {
    "tags": [
     "answer-cell"
    ]
   },
   "outputs": [],
   "source": [
    "###ANSWER HERE"
   ]
  },
  {
   "cell_type": "markdown",
   "metadata": {},
   "source": [
    " <div><img src=\"https://clark.physics.illinois.edu/246img/AnsEnd.svg\" width=200 align=left alt=\"Answer (end)\"></img><br></div>"
   ]
  },
  {
   "cell_type": "markdown",
   "metadata": {},
   "source": [
    "### c. Animating your spring"
   ]
  },
  {
   "cell_type": "markdown",
   "metadata": {},
   "source": [
    "Now animate your spring.  You can do this by calling\n",
    "```python\n",
    "animate_spring_system(x)\n",
    "```\n",
    "on your x-coordinate.\n",
    "\n",
    "In some cases throughout this notebook, animating might take an annoying while. So instead, you may animate with a lower \"frame rate\" by calling this function on `x[0::2]`, for example, which samples every 2 elements of $x$."
   ]
  },
  {
   "cell_type": "markdown",
   "metadata": {},
   "source": [
    " <div><img src=\"https://clark.physics.illinois.edu/246img/AnsStart.svg\" width=200 align=left alt=\"Answer (end)\"></img><br></div>"
   ]
  },
  {
   "cell_type": "code",
   "execution_count": null,
   "metadata": {
    "tags": [
     "answer-cell"
    ]
   },
   "outputs": [],
   "source": [
    "###ANSWER HERE"
   ]
  },
  {
   "cell_type": "markdown",
   "metadata": {},
   "source": [
    " <div><img src=\"https://clark.physics.illinois.edu/246img/AnsEnd.svg\" width=200 align=left alt=\"Answer (end)\"></img><br></div>"
   ]
  },
  {
   "cell_type": "markdown",
   "metadata": {},
   "source": [
    "### d.  An underdamped Harmonic Oscillator"
   ]
  },
  {
   "cell_type": "markdown",
   "metadata": {},
   "source": [
    "Now let's introduce some damping. The equation of motion for a damped harmonic oscillator is \n",
    "\n",
    "$$\n",
    "m \\ddot{x} = -k x - c v \n",
    "$$\n",
    "\n",
    "Rewrite this as a series of first-order differential equations and modify your `equations(state,t,x,k,m,c)` function to solve this differential equation using the same starting conditions and values for $k$ amd $m$ as earlier. Start by using $c=0.2$. Recall that the dissipation $\\gamma=c/(2m\\omega_0)$, and $\\omega_0 = \\sqrt{k/m}$ is the undamped frequency. When $\\gamma<1$, as is this case, we have an underdamped oscillator.  \n",
    "\n",
    "Plot the position and velocity as a function of time. Also animate your spring.  "
   ]
  },
  {
   "cell_type": "markdown",
   "metadata": {},
   "source": [
    " <div><img src=\"https://clark.physics.illinois.edu/246img/AnsStart.svg\" width=200 align=left alt=\"Answer (end)\"></img><br></div>"
   ]
  },
  {
   "cell_type": "code",
   "execution_count": null,
   "metadata": {
    "tags": [
     "answer-cell"
    ]
   },
   "outputs": [],
   "source": [
    "###ANSWER HERE"
   ]
  },
  {
   "cell_type": "markdown",
   "metadata": {},
   "source": [
    " <div><img src=\"https://clark.physics.illinois.edu/246img/AnsEnd.svg\" width=200 align=left alt=\"Answer (end)\"></img><br></div>"
   ]
  },
  {
   "cell_type": "markdown",
   "metadata": {},
   "source": [
    "Now, we would like to check two things explicitly about the damped oscillator:\n",
    "\n",
    "1) We expect that the period of the damped oscillator should be $2\\pi/\\omega_d$ where $\\omega_d \\equiv \\omega_0 \\sqrt{1-\\gamma^2}$ and $\\gamma = c/(2m\\omega_0)$. Verify this by extracting the peak locations of the undamped oscillator.\n",
    " \n",
    "    To do this, we can use `my_peaks=find_peaks(x)[0].tolist()` and then use `t[my_peaks]` to get the time of the respective peaks. Check that those times are all equidistant and that they happen with the prescribed period. The answer you will actually get if you do this will be reasonable but not super-accurate. You can do better by (a) increasing the number of points in your `linspace` to 4000 (but don't rerun the animation becuase it will be very slow) and/or instead of using the difference in time between two peaks, computing the slope of peaks *x* time elapsed using `np.polyfit(range(0,len(my_peaks)),t[my_peaks],1)`.  \n",
    "\n",
    "2) Finally, verify that the damped oscillator's strength decays exponentially. We can do this by looking at the peak values (`x[my_peaks]`) and plot them. To tell that something decreases exponentially, you should plot it on a semi-log scale (`ax1.set_yscale('log')`) and see that the plot is linear. "
   ]
  },
  {
   "cell_type": "markdown",
   "metadata": {},
   "source": [
    " <div><img src=\"https://clark.physics.illinois.edu/246img/AnsStart.svg\" width=200 align=left alt=\"Answer (end)\"></img><br></div>"
   ]
  },
  {
   "cell_type": "code",
   "execution_count": null,
   "metadata": {
    "tags": [
     "answer-cell"
    ]
   },
   "outputs": [],
   "source": [
    "###ANSWER HERE"
   ]
  },
  {
   "cell_type": "code",
   "execution_count": null,
   "metadata": {
    "tags": [
     "answer-cell"
    ]
   },
   "outputs": [],
   "source": [
    "###ANSWER HERE"
   ]
  },
  {
   "cell_type": "code",
   "execution_count": null,
   "metadata": {
    "tags": [
     "answer-cell"
    ]
   },
   "outputs": [],
   "source": [
    "###ANSWER HERE"
   ]
  },
  {
   "cell_type": "markdown",
   "metadata": {},
   "source": [
    " <div><img src=\"https://clark.physics.illinois.edu/246img/AnsEnd.svg\" width=200 align=left alt=\"Answer (end)\"></img><br></div>"
   ]
  },
  {
   "cell_type": "markdown",
   "metadata": {},
   "source": [
    "### e.  An overdamped oscillator"
   ]
  },
  {
   "cell_type": "markdown",
   "metadata": {},
   "source": [
    "Now we turn to the overdamped oscillator. Find $c$ that gives $\\gamma=1.2$ and solve the corresponding ODE. Then consider some value where $\\gamma \\gg 1$.  For both scenarios plot the position and velocity vs time and animate them."
   ]
  },
  {
   "cell_type": "markdown",
   "metadata": {},
   "source": [
    " <div><img src=\"https://clark.physics.illinois.edu/246img/AnsStart.svg\" width=200 align=left alt=\"Answer (end)\"></img><br></div>"
   ]
  },
  {
   "cell_type": "code",
   "execution_count": null,
   "metadata": {
    "tags": [
     "answer-cell"
    ]
   },
   "outputs": [],
   "source": [
    "###ANSWER HERE"
   ]
  },
  {
   "cell_type": "code",
   "execution_count": null,
   "metadata": {
    "tags": [
     "answer-cell"
    ]
   },
   "outputs": [],
   "source": [
    "###ANSWER HERE"
   ]
  },
  {
   "cell_type": "markdown",
   "metadata": {},
   "source": [
    " <div><img src=\"https://clark.physics.illinois.edu/246img/AnsEnd.svg\" width=200 align=left alt=\"Answer (end)\"></img><br></div>"
   ]
  },
  {
   "cell_type": "markdown",
   "metadata": {},
   "source": [
    "### f. Gravity"
   ]
  },
  {
   "cell_type": "markdown",
   "metadata": {},
   "source": [
    "Now suppose you turn your system vertically in such a way that gravity acts as a constant force on your oscillator.\n",
    "Modify your equations of motion to include both the force from gravity and a dissipation term.\n",
    "\n",
    "By running your simulation, compute the equilibrium value for masses `masses=[1.0,2.0,3.0,4.0]`.\n",
    "Then plot the equilibrium spring location versus the mass and show that the equilbrium position is linear with the mass.  You may find the equilibrium simply by averaging the position, but be sure to disregard any transient effects.\n",
    "\n",
    "How could you then use this information as a scale?\n",
    "\n",
    "For concreteness, you may use $g=10,k=1.3,c=0.2$, but that should make no qualitative difference. In fact, your choice of $c$ should make no quantitative difference (why?).\n"
   ]
  },
  {
   "cell_type": "markdown",
   "metadata": {},
   "source": [
    " <div><img src=\"https://clark.physics.illinois.edu/246img/AnsStart.svg\" width=200 align=left alt=\"Answer (end)\"></img><br></div>"
   ]
  },
  {
   "cell_type": "code",
   "execution_count": null,
   "metadata": {
    "tags": [
     "answer-cell"
    ]
   },
   "outputs": [],
   "source": [
    "###ANSWER HERE"
   ]
  },
  {
   "cell_type": "code",
   "execution_count": null,
   "metadata": {
    "tags": [
     "answer-cell"
    ]
   },
   "outputs": [],
   "source": [
    "###ANSWER HERE"
   ]
  },
  {
   "cell_type": "markdown",
   "metadata": {},
   "source": [
    " <div><img src=\"https://clark.physics.illinois.edu/246img/AnsEnd.svg\" width=200 align=left alt=\"Answer (end)\"></img><br></div>"
   ]
  },
  {
   "cell_type": "markdown",
   "metadata": {},
   "source": [
    "Using this information, by calculating the equilibrium position we immediately determine the mass. So we have a scale."
   ]
  },
  {
   "cell_type": "markdown",
   "metadata": {},
   "source": [
    "## Exercise 2. Two springs"
   ]
  },
  {
   "cell_type": "markdown",
   "metadata": {},
   "source": [
    "In this assignment, we are going to work on the simple Harmonic oscillator for two springs.  We will be using slightly different animation and spring-drawing functions in this assignment."
   ]
  },
  {
   "cell_type": "code",
   "execution_count": 15,
   "metadata": {
    "tags": [
     "hide-cell"
    ]
   },
   "outputs": [],
   "source": [
    "def draw_spring(x0, y0, x1, y1, coils=10, amplitude=0.1, linewidth=2, color='blue'):\n",
    "    \"\"\"Draws a spring between (x0, y0) and (x1, y1).\"\"\"\n",
    "    num_points=500\n",
    "\n",
    "    dx = x1 - x0\n",
    "    dy = y1 - y0\n",
    "    length = np.sqrt(dx**2 + dy**2)\n",
    "    angle = np.arctan2(dy, dx)\n",
    "\n",
    "    x_line = np.linspace(x0, x1, num_points)\n",
    "    y_line = np.linspace(y0, y1, num_points)\n",
    "\n",
    "    coil_x = amplitude * np.cos(np.linspace(0, coils * 2 * np.pi, num_points))\n",
    "    coil_y = amplitude * np.sin(np.linspace(0, coils * 2 * np.pi, num_points))\n",
    "\n",
    "    x_spring = x_line + coil_x * np.cos(angle + np.pi/2)\n",
    "    y_spring = y_line + coil_y * np.sin(angle + np.pi/2)\n",
    "\n",
    "    return x_spring, y_spring  # Return the spring coordinates\n",
    "\n",
    "\n",
    "# Animation setup\n",
    "def SetupAnimation():\n",
    "    fig, ax = plt.subplots()\n",
    "    ax.plot([0.0,0.0],[-0.25,0.25],color='red',linewidth=4)\n",
    "    line, = ax.plot([], [], lw=2, color='blue')  # Initialize an empty line object\n",
    "    line2, = ax.plot([], [], lw=2, color='red')  # Initialize an empty line object\n",
    "\n",
    "    center_x=0\n",
    "    center_y=0\n",
    "    radius = 0.1\n",
    "\n",
    "    circle = patches.Circle((center_x, center_y), radius, color='blue', fill=True)\n",
    "    ax.add_artist(circle)\n",
    "\n",
    "    ax.set_xlim(-6, 45) # Set appropriate limits for x\n",
    "    ax.set_ylim(-1, 1)    # Set appropriate limits for y. Adjust as needed.\n",
    "    #ax.set_aspect('equal') # Important for proper spring visualization\n",
    "    ax.set_xlabel('x')\n",
    "    ax.set_ylabel('y')\n",
    "    ax.set_title('Spring Animation')\n",
    "    return fig, ax, line, line2, circle\n",
    "\n",
    "\n",
    "def animate(i, x, Y_t, line,line2,circle, L=20):\n",
    "    x1 = x[i]  # x-coordinate changes over time\n",
    "    xs, ys = draw_spring(0, 0, x1 + L, 0.0, coils=8, amplitude=0.10, color='blue') \n",
    "    line.set_data(xs, ys)\n",
    "    xs, ys = draw_spring(x1 + L, 0, Y_t[i] + 2 * L, 0.0, coils=8, amplitude=0.10, color='red') \n",
    "    line2.set_data(xs, ys)\n",
    "    new_x = x1  \n",
    "    circle.center = (new_x + L, 0) \n",
    "    return line, line2, circle"
   ]
  },
  {
   "cell_type": "markdown",
   "metadata": {},
   "source": [
    "### a.  Equation of motion for forced displacement\n"
   ]
  },
  {
   "cell_type": "markdown",
   "metadata": {},
   "source": [
    "Let us consider the scenario where we have two springs with springs constants $k_1$ (left) and $k_2$ (right) connected to a mass $m$ between them.  The left spring is fixed to a wall and the right spring is displaced by a function $y(t)$.  The equation of motion for such a setup is \n",
    "\n",
    "\n",
    "$$ \n",
    "m \\frac{d^2 x}{dt^2} + (k_1+k_2)x = k_2 y(t) \\tag{1}\n",
    "$$\n",
    "\n",
    "Recall that the natural frequency of this system is $\\omega_0 = \\sqrt{\\frac{k_1+k_2}{m}}$.\n",
    "In this exercise, let's generically use a displacement \n",
    "\n",
    "$$\n",
    "y(t) = Y_0 \\cos(\\omega t)\n",
    "$$\n",
    "\n",
    "There will be many quantities being used in this exercise, so we choose to condense the relevant parameters by defining the following classes:\n",
    "\n"
   ]
  },
  {
   "cell_type": "code",
   "execution_count": 16,
   "metadata": {},
   "outputs": [],
   "source": [
    "class DisplaceParams(NamedTuple):\n",
    "  \"\"\"A docstring\"\"\"\n",
    "  Y0: float\n",
    "  omega: float \n",
    "  phi: float = 0.0\n",
    "\n",
    "class SHOParams(NamedTuple):\n",
    "  \"\"\"A docstring\"\"\"\n",
    "  k1: float\n",
    "  m: float\n",
    "  k2: float\n",
    "  D: DisplaceParams\n",
    "  c: float = 0.0\n",
    "  initial_state: list = [0.0, 0.0]"
   ]
  },
  {
   "cell_type": "markdown",
   "metadata": {},
   "source": [
    "The parameters can be set up as \n",
    "```python\n",
    "params = SHOParams(k1=1.0, m=1.0, k2=1.0, D=DisplaceParams(Y0=4.0, omega=0.25*2*np.pi), initial_state=[1.0, 1.0])\n",
    "```\n",
    "which corrresponds to\n",
    "* $k1=k2=1.0$\n",
    "* $m=1.0$\n",
    "* $Y_0 = 4.0$\n",
    "* $L=0.1$\n",
    "* $ \\omega = 0.25 (2\\pi) \\approx \\omega_0+0.15$\n",
    "* initial state of $x=1$ and $v=1$\n",
    "\n",
    "They can be accessed like `params.k2` or `params.D.Y0`"
   ]
  },
  {
   "cell_type": "markdown",
   "metadata": {},
   "source": [
    "Turn our second order differential equation (1) into a system of coupled first order differential equations in $(x,v)$ and write a function `equations(t,state,params)` which takes a time `t`, a $(x,v)$ pair `state` and a `SHOParams` type object `params`, then returns $\\dot{x}$ and $\\dot{v}$.\n"
   ]
  },
  {
   "cell_type": "markdown",
   "metadata": {},
   "source": [
    " <div><img src=\"https://clark.physics.illinois.edu/246img/AnsStart.svg\" width=200 align=left alt=\"Answer (end)\"></img><br></div>"
   ]
  },
  {
   "cell_type": "code",
   "execution_count": null,
   "metadata": {
    "tags": [
     "answer-cell"
    ]
   },
   "outputs": [],
   "source": [
    "###ANSWER HERE"
   ]
  },
  {
   "cell_type": "markdown",
   "metadata": {},
   "source": [
    " <div><img src=\"https://clark.physics.illinois.edu/246img/AnsEnd.svg\" width=200 align=left alt=\"Answer (end)\"></img><br></div>"
   ]
  },
  {
   "cell_type": "markdown",
   "metadata": {},
   "source": [
    "Once you've produced this function you can go ahead and numerically compute the solution of the differential equation using \n",
    "```python\n",
    "sol = solve_ivp(equations, [t[0], t[-1]], params.initial_state, t_eval=t, args=(params,))\n",
    "x = sol.y[0]\n",
    "v = sol.y[1]\n",
    "```\n",
    "\n",
    "and plot both $x(t)$ and $Y(t)$ against $t$ for times `t = np.linspace(0, 100, 400)`. \n",
    "\n",
    "In order to do this, it will be useful to write a function \n",
    "```python\n",
    "def getDisplacement(displaceParams, t):\n",
    "   ### do stuff\n",
    "   return Y_t\n",
    "```\n",
    "to easily access the displacement $y(t)$.\n",
    "\n",
    "\n",
    "To plot them both on the same axis you can then use \n",
    "```python\n",
    "fig, ax1 = plt.subplots()\n",
    "ax1.plot(t,x,zorder=2,label='x(t)',color='blue')\n",
    "ax1.plot(t,GetDisplacement(params.D, t),zorder=1,label='y(t)',color='red',alpha=0.5)\n",
    "ax1.set_xlabel(\"t\")\n",
    "ax1.set_ylabel(\"x(t)\",color='b')\n",
    "ax1.tick_params('y', colors='b')\n",
    "plt.legend(loc='upper right')\n",
    "plt.show()\n",
    "```\n",
    "\n",
    "You should see some clear beating going on due to being near but not exactly on resonance. "
   ]
  },
  {
   "cell_type": "markdown",
   "metadata": {},
   "source": [
    " <div><img src=\"https://clark.physics.illinois.edu/246img/AnsStart.svg\" width=200 align=left alt=\"Answer (end)\"></img><br></div>"
   ]
  },
  {
   "cell_type": "code",
   "execution_count": null,
   "metadata": {
    "tags": [
     "answer-cell"
    ]
   },
   "outputs": [],
   "source": [
    "###ANSWER HERE"
   ]
  },
  {
   "cell_type": "markdown",
   "metadata": {},
   "source": [
    " <div><img src=\"https://clark.physics.illinois.edu/246img/AnsEnd.svg\" width=200 align=left alt=\"Answer (end)\"></img><br></div>"
   ]
  },
  {
   "cell_type": "markdown",
   "metadata": {},
   "source": [
    "Now go ahead and animate this system using\n",
    "\n",
    "```python\n",
    "fig, ax, line, line2, circle = SetupAnimation()\n",
    "ani = animation.FuncAnimation(fig, animate, frames=len(x), fargs=(x, Y_t,line,line2,circle,20), blit=True, interval=40, repeat=False)  # Pass parameters using fargs\n",
    "display(HTML(ani.to_jshtml()))  \n",
    "plt.close() \n",
    "```\n",
    "\n",
    "To get the parameter `Y_t` you will need to call `Y_t=GetDisplacement(params.D,t)` from above. "
   ]
  },
  {
   "cell_type": "markdown",
   "metadata": {},
   "source": [
    " <div><img src=\"https://clark.physics.illinois.edu/246img/AnsStart.svg\" width=200 align=left alt=\"Answer (end)\"></img><br></div>"
   ]
  },
  {
   "cell_type": "code",
   "execution_count": null,
   "metadata": {
    "tags": [
     "answer-cell"
    ]
   },
   "outputs": [],
   "source": [
    "###ANSWER HERE"
   ]
  },
  {
   "cell_type": "markdown",
   "metadata": {},
   "source": [
    " <div><img src=\"https://clark.physics.illinois.edu/246img/AnsEnd.svg\" width=200 align=left alt=\"Answer (end)\"></img><br></div>"
   ]
  },
  {
   "cell_type": "markdown",
   "metadata": {},
   "source": [
    "Finally, it's interesting to consider tuning your system exactly to resonance. \n",
    "\n",
    " Let $\\omega=\\omega_0$, where $\\omega_0$ is the natural frequency defined as $\\omega_0=\\sqrt{(k_1+k_2)/m}$.  \n",
    "\n",
    " Plot $x(t)$ over time $t$ for times `t = np.linspace(0, 100, 400)`.   Here you should see the oscillations simply get larger and larger over time.  \n",
    "\n",
    "In addition to generating this plot, let's try to figure out how large $x(t)$ gets for various values of $\\omega$.  Loop over all values of $\\omega$ in  `omegas=np.linspace(0.1,2,100)` and plot the largest value of $x(t)$ as a function of $\\omega$.  To replace $\\omega$ in your parameters you can do \n",
    "\n",
    "```python\n",
    "new_params=params._replace(D=DisplaceParams(Y0=4.0, omega=omega))\n",
    "```\n",
    "\n"
   ]
  },
  {
   "cell_type": "markdown",
   "metadata": {},
   "source": [
    " <div><img src=\"https://clark.physics.illinois.edu/246img/AnsStart.svg\" width=200 align=left alt=\"Answer (end)\"></img><br></div>"
   ]
  },
  {
   "cell_type": "code",
   "execution_count": null,
   "metadata": {
    "tags": [
     "answer-cell"
    ]
   },
   "outputs": [],
   "source": [
    "###ANSWER HERE"
   ]
  },
  {
   "cell_type": "code",
   "execution_count": null,
   "metadata": {
    "tags": [
     "answer-cell"
    ]
   },
   "outputs": [],
   "source": [
    "###ANSWER HERE"
   ]
  },
  {
   "cell_type": "markdown",
   "metadata": {},
   "source": [
    " <div><img src=\"https://clark.physics.illinois.edu/246img/AnsEnd.svg\" width=200 align=left alt=\"Answer (end)\"></img><br></div>"
   ]
  },
  {
   "cell_type": "markdown",
   "metadata": {},
   "source": [
    "### b.  Damping "
   ]
  },
  {
   "cell_type": "markdown",
   "metadata": {},
   "source": [
    "Our previous system was doing something unreasonable particularly as our driving frequency approached the natural frequency.  This is partially because there was no damping in the system.  Here, we will now introduce some damping into our system.   The new equations of motion will be \n",
    "\n",
    "$$ \n",
    "m \\frac{d^2 x}{dt^2} +cv + (k_1+k_2)x = k_2 Y_0 \\cos(\\omega t)\n",
    "$$\n",
    "\n",
    "Modify  `equations(state,t,k1,k2,m,Y0,omega,c)` to solve the differential equations for this system.  Then apply it to \n",
    "`params = SHOParams(k1=1.0, m=1.0, k2=1.0, c=0.5, D=DisplaceParams(Y0=4.0, omega=0.25*2*np.pi), initial_state=[1.0, 1.0])`\n",
    "\n",
    "\n",
    "Plot $x(t)$ and the forcing $y(t)$, then animate this system out to a time of $t=20$."
   ]
  },
  {
   "cell_type": "markdown",
   "metadata": {},
   "source": [
    " <div><img src=\"https://clark.physics.illinois.edu/246img/AnsStart.svg\" width=200 align=left alt=\"Answer (end)\"></img><br></div>"
   ]
  },
  {
   "cell_type": "code",
   "execution_count": null,
   "metadata": {
    "tags": [
     "answer-cell"
    ]
   },
   "outputs": [],
   "source": [
    "###ANSWER HERE"
   ]
  },
  {
   "cell_type": "code",
   "execution_count": null,
   "metadata": {
    "tags": [
     "answer-cell"
    ]
   },
   "outputs": [],
   "source": [
    "###ANSWER HERE"
   ]
  },
  {
   "cell_type": "code",
   "execution_count": null,
   "metadata": {
    "tags": [
     "answer-cell"
    ]
   },
   "outputs": [],
   "source": [
    "###ANSWER HERE"
   ]
  },
  {
   "cell_type": "markdown",
   "metadata": {},
   "source": [
    " <div><img src=\"https://clark.physics.illinois.edu/246img/AnsEnd.svg\" width=200 align=left alt=\"Answer (end)\"></img><br></div>"
   ]
  },
  {
   "cell_type": "markdown",
   "metadata": {},
   "source": [
    "Now go ahead and plot the maximum $x(t)$ versus $\\omega$.  You should see that the damping now prevents the maximum height you reach from diverging.  "
   ]
  },
  {
   "cell_type": "markdown",
   "metadata": {},
   "source": [
    " <div><img src=\"https://clark.physics.illinois.edu/246img/AnsStart.svg\" width=200 align=left alt=\"Answer (end)\"></img><br></div>"
   ]
  },
  {
   "cell_type": "code",
   "execution_count": null,
   "metadata": {
    "tags": [
     "answer-cell"
    ]
   },
   "outputs": [],
   "source": [
    "###ANSWER HERE"
   ]
  },
  {
   "cell_type": "markdown",
   "metadata": {},
   "source": [
    " <div><img src=\"https://clark.physics.illinois.edu/246img/AnsEnd.svg\" width=200 align=left alt=\"Answer (end)\"></img><br></div>"
   ]
  },
  {
   "cell_type": "markdown",
   "metadata": {},
   "source": [
    "While not required for credit, it is interesting to change the relevant parameters above and put it into the stiffness controlled regime ($c \\gg m$) and the mass controlled regime ($m \\gg c$). "
   ]
  },
  {
   "cell_type": "markdown",
   "metadata": {},
   "source": [
    "### c. Green's Function $G(\\omega)$"
   ]
  },
  {
   "cell_type": "markdown",
   "metadata": {},
   "source": [
    "We have learned in class that the general solution of a damped driven harmonic oscillator with forcing of the form\n",
    "\n",
    "$$\n",
    "Y= Y_0 \\cos(\\omega t+\\phi)\n",
    "$$ \n",
    "\n",
    "after an initial transient is given by \n",
    "\n",
    "$$\n",
    "x(t) = Y_0 |\\tilde{G}(\\omega)| \\cos(\\omega t + \\phi + \\textrm{angle}(\\tilde{G}(\\omega)))\n",
    "$$\n",
    "\n",
    "where the Green's function \n",
    "\n",
    "$$\n",
    "\\tilde{G}(\\omega) \\equiv \\frac{1}{k} \\frac{1}{\\left[1- \\left(\\frac{\\omega}{\\omega_0} \\right)^2 + 2i \\gamma \\left(\\frac{\\omega}{\\omega_0} \\right) \\right]}\n",
    "$$\n",
    "\n",
    "with \n",
    "\n",
    "$$\n",
    "\\gamma = \\frac{c}{2m\\omega_0}\n",
    "$$\n",
    "\n",
    "\n",
    "Write a function `G(omega,k,omega_0,gamma)` which computes $\\tilde{G}(\\omega)$. \n",
    "\n",
    "Then use it to plot the steady state of $x(t)$ the driven damped oscillator above on top of the exact solution as a function of time.   You expect to find that the transient roughly ends within an order of magnitude of $2m/c$.   Plot a vertical line there on your plot - i.e. `plt.axvline(2m/c)`.\n",
    "\n",
    "Notice that the non-transient values of $x(t)$ do not depend on the initial conditions in any way - i.e. it doesn't show up in the formula at all. "
   ]
  },
  {
   "cell_type": "markdown",
   "metadata": {},
   "source": [
    " <div><img src=\"https://clark.physics.illinois.edu/246img/AnsStart.svg\" width=200 align=left alt=\"Answer (end)\"></img><br></div>"
   ]
  },
  {
   "cell_type": "code",
   "execution_count": null,
   "metadata": {
    "tags": [
     "answer-cell"
    ]
   },
   "outputs": [],
   "source": [
    "###ANSWER HERE"
   ]
  },
  {
   "cell_type": "code",
   "execution_count": null,
   "metadata": {
    "tags": [
     "answer-cell"
    ]
   },
   "outputs": [],
   "source": [
    "###ANSWER HERE"
   ]
  },
  {
   "cell_type": "markdown",
   "metadata": {},
   "source": [
    " <div><img src=\"https://clark.physics.illinois.edu/246img/AnsEnd.svg\" width=200 align=left alt=\"Answer (end)\"></img><br></div>"
   ]
  },
  {
   "cell_type": "markdown",
   "metadata": {},
   "source": [
    "It is also interesting to look at $\\tilde{G}(\\omega)$ as a function of $\\omega/\\omega_n$.  Go ahead and make this plot both for $|\\tilde{G}(\\omega)|$ and $-\\textrm{angle}[\\tilde{G}(\\omega)]$ for $\\omega$ between 0 and 5. "
   ]
  },
  {
   "cell_type": "markdown",
   "metadata": {},
   "source": [
    " <div><img src=\"https://clark.physics.illinois.edu/246img/AnsStart.svg\" width=200 align=left alt=\"Answer (end)\"></img><br></div>"
   ]
  },
  {
   "cell_type": "code",
   "execution_count": null,
   "metadata": {
    "tags": [
     "answer-cell"
    ]
   },
   "outputs": [],
   "source": [
    "###ANSWER HERE"
   ]
  },
  {
   "cell_type": "markdown",
   "metadata": {},
   "source": [
    " <div><img src=\"https://clark.physics.illinois.edu/246img/AnsEnd.svg\" width=200 align=left alt=\"Answer (end)\"></img><br></div>"
   ]
  },
  {
   "cell_type": "markdown",
   "metadata": {},
   "source": [
    "Now investigate what happens as $c\\to 0$. Redo the previous plot with $c=0.001$. It might be helpful to plot $-\\textrm{angle}[\\tilde{G}(\\omega)]$ separately, so you can see its features clearly."
   ]
  },
  {
   "cell_type": "markdown",
   "metadata": {},
   "source": [
    " <div><img src=\"https://clark.physics.illinois.edu/246img/AnsStart.svg\" width=200 align=left alt=\"Answer (end)\"></img><br></div>"
   ]
  },
  {
   "cell_type": "code",
   "execution_count": null,
   "metadata": {
    "tags": [
     "answer-cell"
    ]
   },
   "outputs": [],
   "source": [
    "###ANSWER HERE"
   ]
  },
  {
   "cell_type": "markdown",
   "metadata": {},
   "source": [
    " <div><img src=\"https://clark.physics.illinois.edu/246img/AnsEnd.svg\" width=200 align=left alt=\"Answer (end)\"></img><br></div>"
   ]
  },
  {
   "cell_type": "markdown",
   "metadata": {},
   "source": [
    "From their behavior, you should be able to tell that the magnitude of $G$ is (proportional to) the derivative of the angle of $G$. As the derivative blows up, the undifferentiated function -- here the angle -- approaches a discontinuity! Although continuity is predominant in physics, and we're often taught to disregard discontinuities as pathologies, this exact behavior happens in many places and is behind many interesting and deep phenomena such as [phase transitions](https://en.wikipedia.org/wiki/Lee%E2%80%93Yang_theory) and [shock waves](https://en.wikipedia.org/wiki/Shock_wave)."
   ]
  },
  {
   "cell_type": "markdown",
   "metadata": {},
   "source": [
    "### d.  Power Flow in the Steady State"
   ]
  },
  {
   "cell_type": "markdown",
   "metadata": {},
   "source": [
    "We are interested in solving for the power flow in the steady state. The power dissipated should go as \n",
    "\n",
    "$$\n",
    "P_\\textrm{out} = cv^2 \n",
    "$$\n",
    "\n",
    "over a single cycle.\n",
    "\n",
    "The power input goes as \n",
    "\n",
    "$$\n",
    "P_\\textrm{in} =  Fv \n",
    "$$\n",
    "\n",
    "Using the same parameters as before, except now with $c=1$, plot both the input and output power as a function of time using `t=np.linspace(0, 20, 20000)`. \n",
    "\n",
    "Also, this is a good place to play with the $c$ parameter and see and try to understand what is happening. Increase the range of $t$ if you feel you need to.\n"
   ]
  },
  {
   "cell_type": "markdown",
   "metadata": {},
   "source": [
    " <div><img src=\"https://clark.physics.illinois.edu/246img/AnsStart.svg\" width=200 align=left alt=\"Answer (end)\"></img><br></div>"
   ]
  },
  {
   "cell_type": "code",
   "execution_count": null,
   "metadata": {
    "tags": [
     "answer-cell"
    ]
   },
   "outputs": [],
   "source": [
    "###ANSWER HERE"
   ]
  },
  {
   "cell_type": "markdown",
   "metadata": {},
   "source": [
    " <div><img src=\"https://clark.physics.illinois.edu/246img/AnsEnd.svg\" width=200 align=left alt=\"Answer (end)\"></img><br></div>"
   ]
  },
  {
   "cell_type": "markdown",
   "metadata": {},
   "source": [
    "\n",
    "Now, we would like to evaluate the average power dissipated and put into the system. We want to average the power over one or an integer number of cycles.\n",
    "\n",
    "For the paramaters above, we can get the index of an integer number of periods by doing\n",
    "```python\n",
    "find_peaks(-getDisplacement(params.D,t))[0]\n",
    "```\n",
    "\n",
    "Go ahead and evaluate the average of the power over these times.  You can then compare it to the analytical formula \n",
    "\n",
    "$$\n",
    "\\overline{P}=\\frac{c\\omega^2 Y_0^2 G^2}{2}\n",
    "$$\n",
    "\n",
    "You should find that all three of these terms agree to 2-3 digits.  \n"
   ]
  },
  {
   "cell_type": "markdown",
   "metadata": {},
   "source": [
    " <div><img src=\"https://clark.physics.illinois.edu/246img/AnsStart.svg\" width=200 align=left alt=\"Answer (end)\"></img><br></div>"
   ]
  },
  {
   "cell_type": "code",
   "execution_count": null,
   "metadata": {
    "tags": [
     "answer-cell"
    ]
   },
   "outputs": [],
   "source": [
    "###ANSWER HERE"
   ]
  },
  {
   "cell_type": "markdown",
   "metadata": {},
   "source": [
    " <div><img src=\"https://clark.physics.illinois.edu/246img/AnsEnd.svg\" width=200 align=left alt=\"Answer (end)\"></img><br></div>"
   ]
  },
  {
   "cell_type": "markdown",
   "metadata": {},
   "source": [
    "---"
   ]
  },
  {
   "cell_type": "markdown",
   "metadata": {},
   "source": [
    "**Acknowledgements:**\n",
    "* Bryan Clark (original)"
   ]
  }
 ],
 "metadata": {
  "colab": {
   "provenance": []
  },
  "kernelspec": {
   "display_name": "Python 3",
   "language": "python",
   "name": "python3"
  },
  "language_info": {
   "codemirror_mode": {
    "name": "ipython",
    "version": 3
   },
   "file_extension": ".py",
   "mimetype": "text/x-python",
   "name": "python",
   "nbconvert_exporter": "python",
   "pygments_lexer": "ipython3",
   "version": "3.9.6"
  }
 },
 "nbformat": 4,
 "nbformat_minor": 4
}
