{
 "cells": [
  {
   "cell_type": "markdown",
   "metadata": {},
   "source": [
    "# Two Springs and Forcing "
   ]
  },
  {
   "cell_type": "code",
   "execution_count": null,
   "metadata": {
    "tags": [
     "hide-output"
    ]
   },
   "outputs": [],
   "source": [
    "import numpy as np\n",
    "#from scipy.integrate import odeint\n",
    "from scipy.integrate import solve_ivp\n",
    "import matplotlib.pyplot as plt\n",
    "import matplotlib.patches as patches\n",
    "import matplotlib.animation as animation\n",
    "from IPython.display import HTML\n",
    "from scipy.signal import find_peaks\n",
    "from typing import NamedTuple\n",
    "from scipy.fft import fft, fftfreq, ifft, fftshift\n",
    "from scipy import signal"
   ]
  },
  {
   "cell_type": "code",
   "execution_count": null,
   "metadata": {
    "tags": [
     "hide-output"
    ]
   },
   "outputs": [],
   "source": [
    "\n",
    "def draw_spring(x0, y0, x1, y1, coils=10, amplitude=0.1, linewidth=2, color='blue'):\n",
    "    \"\"\"Draws a spring between (x0, y0) and (x1, y1).\"\"\"\n",
    "    num_points=500\n",
    "\n",
    "    dx = x1 - x0\n",
    "    dy = y1 - y0\n",
    "    length = np.sqrt(dx**2 + dy**2)\n",
    "    angle = np.arctan2(dy, dx)\n",
    "\n",
    "    x_line = np.linspace(x0, x1, num_points)\n",
    "    y_line = np.linspace(y0, y1, num_points)\n",
    "\n",
    "    coil_x = amplitude * np.cos(np.linspace(0, coils * 2 * np.pi, num_points))\n",
    "    coil_y = amplitude * np.sin(np.linspace(0, coils * 2 * np.pi, num_points))\n",
    "\n",
    "    x_spring = x_line + coil_x * np.cos(angle + np.pi/2)\n",
    "    y_spring = y_line + coil_y * np.sin(angle + np.pi/2)\n",
    "\n",
    "    return x_spring, y_spring  # Return the spring coordinates\n",
    "\n",
    "\n",
    "# Animation setup\n",
    "def SetupAnimation():\n",
    "    fig, ax = plt.subplots()\n",
    "    ax.plot([0.0,0.0],[-0.25,0.25],color='red',linewidth=4)\n",
    "    line, = ax.plot([], [], lw=2, color='blue')  # Initialize an empty line object\n",
    "    line2, = ax.plot([], [], lw=2, color='red')  # Initialize an empty line object\n",
    "\n",
    "    center_x=0\n",
    "    center_y=0\n",
    "    radius = 0.1\n",
    "\n",
    "    circle = patches.Circle((center_x, center_y), radius, color='blue', fill=True)\n",
    "    ax.add_artist(circle)\n",
    "\n",
    "    ax.set_xlim(-6, 45) # Set appropriate limits for x\n",
    "    ax.set_ylim(-1, 1)    # Set appropriate limits for y. Adjust as needed.\n",
    "    #ax.set_aspect('equal') # Important for proper spring visualization\n",
    "    ax.set_xlabel('x')\n",
    "    ax.set_ylabel('y')\n",
    "    ax.set_title('Spring Animation')\n",
    "    return fig, ax, line, line2, circle\n",
    "\n",
    "\n",
    "def animate(i, x, Y_t, line,line2,circle, L=20):\n",
    "    x1 = x[i]  # x-coordinate changes over time\n",
    "    xs, ys = draw_spring(0, 0, x1 + L, 0.0, coils=8, amplitude=0.10, color='blue') \n",
    "    line.set_data(xs, ys)\n",
    "    xs, ys = draw_spring(x1 + L, 0, Y_t[i] + 2 * L, 0.0, coils=8, amplitude=0.10, color='red') \n",
    "    line2.set_data(xs, ys)\n",
    "    new_x = x1  \n",
    "    circle.center = (new_x + L, 0) \n",
    "    return line, line2, circle\n",
    "\n",
    "\n",
    "class DisplaceParams(NamedTuple):\n",
    "  \"\"\"A docstring\"\"\"\n",
    "  Y0: float\n",
    "  omega: float \n",
    "  phi: float = 0.0\n",
    "\n",
    "class SHOParams(NamedTuple):\n",
    "  \"\"\"A docstring\"\"\"\n",
    "  k: float\n",
    "  m: float\n",
    "  kp: float\n",
    "  D: DisplaceParams\n",
    "  c: float = 0.0\n",
    "  initial_state: list = [0.0, 0.0]"
   ]
  },
  {
   "cell_type": "markdown",
   "metadata": {},
   "source": [
    "## Exercise 1. Two springs"
   ]
  },
  {
   "cell_type": "markdown",
   "metadata": {},
   "source": [
    "### a.  Equation of motion for forced displacement\n"
   ]
  },
  {
   "cell_type": "markdown",
   "metadata": {},
   "source": [
    " Let us now consider the scenario where we have two springs with springs constants $k$ (left) and $k'$ (right) with a mass $m$ between them.  The left spring is fixed to a wall and the right spring is displaced by a function $y(t)$.  The equation of motion for such a setup is \n",
    "\n",
    "\n",
    "$$ \n",
    "m \\frac{d^2 x}{dt^2} + (k+k')x = k'y(t) \n",
    "$$\n",
    "\n",
    "Recall that the natural frequency of this system is $\\omega_0 = \\sqrt{\\frac{k+k'}{m}}$\n",
    "In this exercise, let's generically use a displacement \n",
    "\n",
    "$$\n",
    "y(t) = Y_0 \\cos(\\omega t)\n",
    "$$\n",
    "\n",
    "\n",
    "Work out the coupled first order differential equations and write a function `equations(t,state,params)` which returns $\\dot{x}$ and $\\dot{v}$.\n",
    "The parameters can be set up as \n",
    "```\n",
    "params = SHOParams(k=1.0, m=1.0, kp=1.0, D=DisplaceParams(Y0=4.0, omega=0.25*2*np.pi), initial_state=[1.0, 1.0])\n",
    "```\n",
    "which corrresponds to\n",
    "* $k=k'=1.0$\n",
    "* $m=1.0$\n",
    "* $Y_0 = 4.0$\n",
    "* $L=0.1$\n",
    "* $ \\omega = 0.25 (2\\pi) \\approx \\omega_0+0.15$\n",
    "* initial state of $x=1$ and $v=1$\n",
    "\n",
    "They can be accessed like `params.kp` or `params.D.Y0`\n",
    "\n",
    "Once you've produced this function you can go ahead and numerically compute the solution of the differential equation using \n",
    "```\n",
    "sol = solve_ivp(equations, [t[0], t[-1]], params.initial_state, t_eval=t, args=(params,))\n",
    "x = sol.y[0]\n",
    "v= sol.y[1]\n",
    "```\n",
    "\n",
    "and plot both $x(t)$ and $Y(t)$ against $t$ for times `t = np.linspace(0, 100, 400)`. \n",
    "\n",
    "In order to do this, it will be useful to write a function \n",
    "```\n",
    "def GetDisplacement(displaceParams, t):\n",
    "### do stuff\n",
    "   return Y_t\n",
    "```\n",
    "\n",
    "which you call as `GetDisplacement(params.D)` and which will return a numpy array of the displacement.\n",
    "\n",
    "\n",
    "To plot them both on the same axis you can then use \n",
    "```\n",
    "fig, ax1 = plt.subplots()\n",
    "ax1.plot(t,x,zorder=2,label='x(t)',color='blue')\n",
    "ax1.plot(t,GetDisplacement(params.D, t),zorder=1,label='y(t)',color='red',alpha=0.5)\n",
    "ax1.set_xlabel(\"t\")\n",
    "ax1.set_ylabel(\"x(t)\",color='b')\n",
    "ax1.tick_params('y', colors='b')\n",
    "plt.legend(loc='upper right')\n",
    "plt.show()\n",
    "```\n",
    "\n",
    "You should see some clear beating going on due to being near but not on resonance. "
   ]
  },
  {
   "cell_type": "markdown",
   "metadata": {},
   "source": [
    " <div><img src=\"https://clark.physics.illinois.edu/246img/AnsStart.svg\" width=200 align=left alt=\"Answer (end)\"></img><br></div>"
   ]
  },
  {
   "cell_type": "code",
   "execution_count": null,
   "metadata": {
    "tags": [
     "answer-cell"
    ]
   },
   "outputs": [],
   "source": [
    "###ANSWER HERE"
   ]
  },
  {
   "cell_type": "markdown",
   "metadata": {},
   "source": [
    " <div><img src=\"https://clark.physics.illinois.edu/246img/AnsEnd.svg\" width=200 align=left alt=\"Answer (end)\"></img><br></div>"
   ]
  },
  {
   "cell_type": "markdown",
   "metadata": {},
   "source": [
    "Also go ahead and animate this system using\n",
    "\n",
    "```\n",
    "fig, ax, line, line2, circle = SetupAnimation()\n",
    "ani = animation.FuncAnimation(fig, animate, frames=len(x), fargs=(x, Y_t,line,line2,circle,20), blit=True, interval=40, repeat=False)  # Pass parameters using fargs\n",
    "display(HTML(ani.to_jshtml()))  \n",
    "plt.close() \n",
    "```\n",
    "\n",
    "To get the parameter `Y_t` you will need to call `Y_t=GetDisplacement(params.D0)` from above. "
   ]
  },
  {
   "cell_type": "markdown",
   "metadata": {},
   "source": [
    " <div><img src=\"https://clark.physics.illinois.edu/246img/AnsStart.svg\" width=200 align=left alt=\"Answer (end)\"></img><br></div>"
   ]
  },
  {
   "cell_type": "code",
   "execution_count": null,
   "metadata": {
    "tags": [
     "answer-cell"
    ]
   },
   "outputs": [],
   "source": [
    "###ANSWER HERE"
   ]
  },
  {
   "cell_type": "markdown",
   "metadata": {},
   "source": [
    " <div><img src=\"https://clark.physics.illinois.edu/246img/AnsEnd.svg\" width=200 align=left alt=\"Answer (end)\"></img><br></div>"
   ]
  },
  {
   "cell_type": "markdown",
   "metadata": {},
   "source": [
    "Finally, it's interesting to consider tuning your system actually to resonance. \n",
    "\n",
    " Let $\\omega$ be the natural frequency $\\sqrt{(k+k')/m}$.  \n",
    "\n",
    " Plot $x(t)$ over time $t$ for times `t = np.linspace(0, 100, 400)`.   Here you should see the oscillations simply get larger and larger over time.  \n",
    "\n",
    "In addition to generating this plot, let's try to figure out how large $x(t)$ gets for various values of $\\omega$.  Loop over all values of $\\omega$ in  `omegas=np.linspace(0.1,2,100)` and plot the largest value of $x(t)$ as a function of $\\omega$.  To replace $\\omega$ in your parameters you can do \n",
    "\n",
    "```\n",
    "new_params=params._replace(D=DisplaceParams(Y0=4.0, omega=omega))\n",
    "```\n",
    "\n"
   ]
  },
  {
   "cell_type": "markdown",
   "metadata": {},
   "source": [
    " <div><img src=\"https://clark.physics.illinois.edu/246img/AnsStart.svg\" width=200 align=left alt=\"Answer (end)\"></img><br></div>"
   ]
  },
  {
   "cell_type": "code",
   "execution_count": null,
   "metadata": {
    "tags": [
     "answer-cell"
    ]
   },
   "outputs": [],
   "source": [
    "###ANSWER HERE"
   ]
  },
  {
   "cell_type": "markdown",
   "metadata": {},
   "source": [
    " <div><img src=\"https://clark.physics.illinois.edu/246img/AnsEnd.svg\" width=200 align=left alt=\"Answer (end)\"></img><br></div>"
   ]
  },
  {
   "cell_type": "markdown",
   "metadata": {},
   "source": [
    "### b.  Damping "
   ]
  },
  {
   "cell_type": "markdown",
   "metadata": {},
   "source": [
    "Our previous system was doing something unreasonable particularly as our driving frequency approached the natural frequency.  This is partially because there was no damping in the system.  Here, we will now introduce some dampling into our system.   The new equations of motion will be \n",
    "\n",
    "$$ \n",
    "m \\frac{d^2 x}{dt^2} -cv (k+k')x = k' Y_0 \\cos(\\omega t)\n",
    "$$\n",
    "\n",
    "Go ahead and modify  `equations(state,t,k,kp,m,Y0,omega,c)` to solve the differential equations for this system.  Then apply it to \n",
    "`params = SHOParams(k=1.0, m=1.0, kp=1.0, c=0.5, D= D=DisplaceParams(Y0=4.0, omega=0.25*2*np.pi), initial_state=[1.0, 1.0])`\n",
    "\n",
    "\n",
    "Plot $x(t)$ and animate this system out to a time of $T=20$."
   ]
  },
  {
   "cell_type": "markdown",
   "metadata": {},
   "source": [
    " <div><img src=\"https://clark.physics.illinois.edu/246img/AnsStart.svg\" width=200 align=left alt=\"Answer (end)\"></img><br></div>"
   ]
  },
  {
   "cell_type": "code",
   "execution_count": null,
   "metadata": {
    "tags": [
     "answer-cell"
    ]
   },
   "outputs": [],
   "source": [
    "###ANSWER HERE"
   ]
  },
  {
   "cell_type": "code",
   "execution_count": null,
   "metadata": {
    "tags": [
     "answer-cell"
    ]
   },
   "outputs": [],
   "source": [
    "###ANSWER HERE"
   ]
  },
  {
   "cell_type": "markdown",
   "metadata": {},
   "source": [
    " <div><img src=\"https://clark.physics.illinois.edu/246img/AnsEnd.svg\" width=200 align=left alt=\"Answer (end)\"></img><br></div>"
   ]
  },
  {
   "cell_type": "markdown",
   "metadata": {},
   "source": [
    "Now go ahead and plot the maximum $x(t)$ versus $\\omega$.  You should see that the damping now prevents the maximum height you reach from diverging.  "
   ]
  },
  {
   "cell_type": "markdown",
   "metadata": {},
   "source": [
    " <div><img src=\"https://clark.physics.illinois.edu/246img/AnsStart.svg\" width=200 align=left alt=\"Answer (end)\"></img><br></div>"
   ]
  },
  {
   "cell_type": "code",
   "execution_count": null,
   "metadata": {
    "tags": [
     "answer-cell"
    ]
   },
   "outputs": [],
   "source": [
    "###ANSWER HERE"
   ]
  },
  {
   "cell_type": "markdown",
   "metadata": {},
   "source": [
    " <div><img src=\"https://clark.physics.illinois.edu/246img/AnsEnd.svg\" width=200 align=left alt=\"Answer (end)\"></img><br></div>"
   ]
  },
  {
   "cell_type": "markdown",
   "metadata": {},
   "source": [
    "While not required for credit, it is interesting to change the relevant parameters above and put it into the stiffness controlled regime and the mass controlled regime. "
   ]
  },
  {
   "cell_type": "markdown",
   "metadata": {},
   "source": [
    "### c. $G(\\omega)$"
   ]
  },
  {
   "cell_type": "markdown",
   "metadata": {},
   "source": [
    "We have learned in class that the general solution of a damped driven harmonic oscillator of the form\n",
    "\n",
    "$$\n",
    "Y= F_0 \\cos(\\omega t+\\phi)\n",
    "$$ \n",
    "\n",
    "after an initial transient is given by \n",
    "\n",
    "$$\n",
    "x(t) = F_0 |\\tilde{G}(\\omega)| \\cos(\\omega t + \\phi + \\textrm{angle}(\\tilde{G}(\\omega)))\n",
    "$$\n",
    "\n",
    "where the greens function \n",
    "\n",
    "$$\n",
    "\\tilde{G}(\\omega) \\equiv \\frac{1}{k} \\frac{1}{\\left[1- \\left(\\frac{\\omega}{\\omega_n} \\right)^2 + 2i \\zeta \\left(\\frac{\\omega}{\\omega_n} \\right) \\right]}\n",
    "$$\n",
    "\n",
    "with \n",
    "\n",
    "$$\n",
    "\\zeta = \\frac{c}{2m\\omega_n}\n",
    "$$\n",
    "\n",
    "\n",
    "Write a function ` G(omega,k,kp,omega_n,zeta)` which computes $\\tilde{G}(\\omega)$. \n",
    "\n",
    "Then use it to plot the steady state of $x(t)$ the driven damped oscillator above on top of the exact solution as a function of time.   You expect to find that the transient roughly ends after time $2m/c$.   Plot a vertical line there on your plot - i.e. `plt.axvline(2m/c)`.\n",
    "\n",
    "Notice that the non-transient values of $x(t)$ do not depend on the initial conditions in any way - i.e. it doesn't show up in the formula at all. "
   ]
  },
  {
   "cell_type": "markdown",
   "metadata": {},
   "source": [
    " <div><img src=\"https://clark.physics.illinois.edu/246img/AnsStart.svg\" width=200 align=left alt=\"Answer (end)\"></img><br></div>"
   ]
  },
  {
   "cell_type": "code",
   "execution_count": null,
   "metadata": {
    "tags": [
     "answer-cell"
    ]
   },
   "outputs": [],
   "source": [
    "###ANSWER HERE"
   ]
  },
  {
   "cell_type": "markdown",
   "metadata": {},
   "source": [
    " <div><img src=\"https://clark.physics.illinois.edu/246img/AnsEnd.svg\" width=200 align=left alt=\"Answer (end)\"></img><br></div>"
   ]
  },
  {
   "cell_type": "markdown",
   "metadata": {},
   "source": [
    "It is also interesting to look at $\\tilde{G}(\\omega)$ as a function of $\\omega/\\omega_n$.  Go ahead and make this plot both for $|\\tilde{G}(\\omega)|$ and $-\\textrm{angle}[\\tilde{G}(\\omega)]$ for $\\omega$ between 0 and 5. "
   ]
  },
  {
   "cell_type": "markdown",
   "metadata": {},
   "source": [
    " <div><img src=\"https://clark.physics.illinois.edu/246img/AnsStart.svg\" width=200 align=left alt=\"Answer (end)\"></img><br></div>"
   ]
  },
  {
   "cell_type": "code",
   "execution_count": null,
   "metadata": {
    "tags": [
     "answer-cell"
    ]
   },
   "outputs": [],
   "source": [
    "###ANSWER HERE"
   ]
  },
  {
   "cell_type": "markdown",
   "metadata": {},
   "source": [
    " <div><img src=\"https://clark.physics.illinois.edu/246img/AnsEnd.svg\" width=200 align=left alt=\"Answer (end)\"></img><br></div>"
   ]
  },
  {
   "cell_type": "markdown",
   "metadata": {},
   "source": [
    "### d.  Power Flow in the Steady State"
   ]
  },
  {
   "cell_type": "markdown",
   "metadata": {},
   "source": [
    "We are interested in solving for the power flow in the steady state. The power dissipated should go as \n",
    "\n",
    "$$\n",
    "P_\\textrm{out} = cv^2 \n",
    "$$\n",
    "\n",
    "over a single cycle.\n",
    "\n",
    "The average power input goes as \n",
    "\n",
    "$$\n",
    "P_\\textrm{in} =  Fv \n",
    "$$\n",
    "\n",
    "Using the same parameters as before **except with $c=1$, plot both the input and output power as a function of time using `t=np.linspace(0, 20, 20000)`. \n"
   ]
  },
  {
   "cell_type": "markdown",
   "metadata": {},
   "source": [
    " <div><img src=\"https://clark.physics.illinois.edu/246img/AnsStart.svg\" width=200 align=left alt=\"Answer (end)\"></img><br></div>"
   ]
  },
  {
   "cell_type": "code",
   "execution_count": null,
   "metadata": {
    "tags": [
     "answer-cell"
    ]
   },
   "outputs": [],
   "source": [
    "###ANSWER HERE"
   ]
  },
  {
   "cell_type": "markdown",
   "metadata": {},
   "source": [
    " <div><img src=\"https://clark.physics.illinois.edu/246img/AnsEnd.svg\" width=200 align=left alt=\"Answer (end)\"></img><br></div>"
   ]
  },
  {
   "cell_type": "markdown",
   "metadata": {},
   "source": [
    "\n",
    "\n",
    "\n",
    " Now, we would like to evaluate the average power dissipated and put into the system.   We want to average the power over one (or an integer) number of cycles.\n",
    "\n",
    "For the paramaters above, we can get the index of an integer number of wavelengths by doing\n",
    "```\n",
    "t_idx_start=np.argmin(np.abs(t-10.0))\n",
    "t_idx_stop=np.argmin(np.abs(t-20.))\n",
    "```\n",
    "\n",
    "Go ahead and evaluate the average of the power over these times.  You can then compare it to the analytical formula \n",
    "\n",
    "$$\n",
    "\\frac{c F_0^2 \\omega^2 G^2}{2}\n",
    "$$\n",
    "\n",
    "You should find that all three of these terms agree to 2-3 digits.  \n"
   ]
  },
  {
   "cell_type": "markdown",
   "metadata": {},
   "source": [
    " <div><img src=\"https://clark.physics.illinois.edu/246img/AnsStart.svg\" width=200 align=left alt=\"Answer (end)\"></img><br></div>"
   ]
  },
  {
   "cell_type": "code",
   "execution_count": null,
   "metadata": {
    "tags": [
     "answer-cell"
    ]
   },
   "outputs": [],
   "source": [
    "###ANSWER HERE"
   ]
  },
  {
   "cell_type": "markdown",
   "metadata": {},
   "source": [
    " <div><img src=\"https://clark.physics.illinois.edu/246img/AnsEnd.svg\" width=200 align=left alt=\"Answer (end)\"></img><br></div>"
   ]
  },
  {
   "cell_type": "markdown",
   "metadata": {},
   "source": [
    "## Exercise 2.  Linear Combination of Periodic Forcing"
   ]
  },
  {
   "cell_type": "markdown",
   "metadata": {},
   "source": [
    "### a.  Two Harmonic Forces"
   ]
  },
  {
   "cell_type": "markdown",
   "metadata": {},
   "source": [
    "In this exercise, we'd like to understand what happens if we apply a driving force which is a sum of multiple Harmonic forces - i.e. \n",
    "\n",
    "$$\n",
    "Y(t) = Y_1(t) + Y_2(t)\n",
    "$$ \n",
    "\n",
    "with an initial condition of $x=1.0; v=1.0$ \n",
    "\n",
    "We will let \n",
    "* $Y_1(t) =  4 \\cos (2\\pi (0.25) t)$\n",
    "* $Y_2(t) =  8 \\cos (2\\pi (0.1) t + 1.0)$\n",
    "\n",
    "\n",
    "To solve for $x(t)$, we can separately solve for $x_1(t)$ (with Harmonic force $Y_1(t)$) and $x_2(t)$ (with Harmonic force $Y_2(t)$) and add them together to get $x(t)=x_1(t) +x_2(t)$.  When we do this, we need to be careful about our initial conditions:  the sum of the initial conditions for $x_1(t)$ and $x_2(t)$ must be equal to the initial conditions for $x(t)$.  Let's let our initial conditions be $[0.3,0.6]$ and $[0.7,0.4]$ respectively. \n",
    "\n",
    "\n",
    "For the other parameters, continue using \n",
    "```\n",
    "params = SHOParams(k=1.0, m=1.0, kp=1.0, c=0.5, D=..., initial_state=...)\n",
    "```\n",
    "with times  `t= np.linspace(0, 20, 10000)`\n",
    "\n",
    "\n",
    "Solve for and plot $x_1(t)$, $x_2(t)$ and $x(t)$.  Your answer should look like ....\n",
    "\n"
   ]
  },
  {
   "cell_type": "markdown",
   "metadata": {},
   "source": [
    " <div><img src=\"https://clark.physics.illinois.edu/246img/AnsStart.svg\" width=200 align=left alt=\"Answer (end)\"></img><br></div>"
   ]
  },
  {
   "cell_type": "code",
   "execution_count": null,
   "metadata": {
    "tags": [
     "answer-cell"
    ]
   },
   "outputs": [],
   "source": [
    "###ANSWER HERE"
   ]
  },
  {
   "cell_type": "markdown",
   "metadata": {},
   "source": [
    " <div><img src=\"https://clark.physics.illinois.edu/246img/AnsEnd.svg\" width=200 align=left alt=\"Answer (end)\"></img><br></div>"
   ]
  },
  {
   "cell_type": "markdown",
   "metadata": {},
   "source": [
    "Suppose we just had the curve \n",
    "```\n",
    "### <-- you don't get to see this next line. Someone just hands you D_t\n",
    "D_t=GetDisplacement(DisplaceParams(Y0=4.0, omega=0.25*2*np.pi, phi=0), t)+GetDisplacement(DisplaceParams(Y0=8.0, omega=0.1*2*np.pi, phi=1.0), t)  \n",
    "###\n",
    "plt.plot(D_t)\n",
    "plt.show()\n",
    "``` \n",
    "on a plot but we didn't know what frequencies it came from. \n",
    "\n",
    "In order to solve for the frequency $x(t)$ using our previous techniques, we would need to decompose our displacement $Y(t)$ into a linear combination of cosines with different frequences and phi. - i.e. \n",
    "$$\n",
    "Y(t) = \\sum_i Y_{0,i} \\cos (\\omega_i t + \\phi_i )\n",
    "$$\n",
    "\n",
    "\n",
    "\n",
    "We can do this using a FFT.  Let's call \n",
    "```\n",
    "fft_freqs=fftfreq(len(D_t),t[1]-t[0])\n",
    "the_fft=fft(D_t)\n",
    "```\n",
    "\n",
    "Then we can plot the absolute value of $F(t)$ and this should tell us what frequencies (as a fraction of $\\pi$) make up our curves\n",
    "```\n",
    "plt.plot(fft_freqs,np.abs(the_fft),'.')\n",
    "plt.xlim(-1.2,1.2)\n",
    "plt.show()\n",
    "mask=np.where(np.abs(the_fft)>cutoff)\n",
    "print(\"Frequencies: \",fft_freqs[mask])\n",
    "```\n",
    "These last two lines are just to indicate which frequencies are large.  You should see (both from the graph and printing) that we get back $\\pm 0.25$ and $ \\pm 0.1$ as large frequencies. \n",
    "\n",
    "To get the phases of our curves, we should then plot\n",
    "```\n",
    "plt.plot(fft_freqs[mask],np.angle(the_fft[mask]),'.')\n",
    "plt.xlim(-1,1)\n",
    "plt.ylim(-np.pi,np.pi)\n",
    "plt.show()\n",
    "```"
   ]
  },
  {
   "cell_type": "markdown",
   "metadata": {},
   "source": [
    " <div><img src=\"https://clark.physics.illinois.edu/246img/AnsStart.svg\" width=200 align=left alt=\"Answer (end)\"></img><br></div>"
   ]
  },
  {
   "cell_type": "code",
   "execution_count": null,
   "metadata": {
    "tags": [
     "answer-cell"
    ]
   },
   "outputs": [],
   "source": [
    "###ANSWER HERE"
   ]
  },
  {
   "cell_type": "markdown",
   "metadata": {},
   "source": [
    " <div><img src=\"https://clark.physics.illinois.edu/246img/AnsEnd.svg\" width=200 align=left alt=\"Answer (end)\"></img><br></div>"
   ]
  },
  {
   "cell_type": "markdown",
   "metadata": {},
   "source": [
    "From these graphs above we can extract that our curve was \n",
    "\n",
    "$$\n",
    "4.0 \\exp[2 \\pi i t \\times 0.25] + 4.0 \\exp[-2 \\pi i t \\times 0.25]  + 2.0 \\exp[-2\\pi i t \\times 0.1 + 1]  + 2.0 \\exp[-2 \\pi i t \\times 0.1 - 1]\n",
    "$$\n",
    "\n",
    "\n",
    "$$\n",
    "= 8.0 \\cos (2\\pi i t \\times 0.25) + 4.0 \\sin (2\\pi i t \\times 0.1 + 1)\n",
    "$$\n",
    "\n",
    "This is what was expected given what we put in. "
   ]
  },
  {
   "cell_type": "markdown",
   "metadata": {},
   "source": []
  },
  {
   "cell_type": "markdown",
   "metadata": {},
   "source": [
    "## Exercise 3.  Linear Combination of Delta Function Forcing"
   ]
  },
  {
   "cell_type": "markdown",
   "metadata": {},
   "source": [
    "In the previous problem we decomposed our signal into a sum of Harmonic signals.  In this problem we are going to decompose our solution into a sum of (almost) delta functions. "
   ]
  },
  {
   "cell_type": "markdown",
   "metadata": {},
   "source": [
    "### a.  Delta Function"
   ]
  },
  {
   "cell_type": "markdown",
   "metadata": {},
   "source": [
    "First, similar to `DisplaceParams` let us define a `DeltaParams` as\n",
    "```\n",
    "class DeltaParams(NamedTuple):\n",
    "  \"\"\"A docstring\"\"\"\n",
    "  Y0: float\n",
    "  t1: float \n",
    "  t2: float\n",
    "  ```\n",
    "\n",
    "which creates a impulse of height $Y_0$ for times $t_1 < t < t_2$. \n",
    "\n",
    "Then we can create another parameter class\n",
    "```\n",
    "class SHOParams_delta(NamedTuple):\n",
    "  \"\"\"A docstring\"\"\"\n",
    "  k: float\n",
    "  m: float\n",
    "  kp: float\n",
    "  D: DeltaParams\n",
    "  c: float = 0.0\n",
    "  initial_state: list = [0.0, 0.0]\n",
    "```\n",
    "\n",
    "which is similar to our last class but takes a `DeltaParams`.\n",
    "\n",
    "\n",
    "Now modify `equations(t, state, shoParams)` to instead implement the first order differential equations using this \"delta function\" $Y(t)$.  \n",
    "\n",
    "Defining $dt=0.1$, let us compute $x(t)$ for a potential with $Y_0 =1/dt$ and $0<t<dt$ on a set of `t=np.arange(0,20,dt)`.   For technical reasons, we need to add a `max_step` parameter to our `solve_ivp` function - i.e. \n",
    "```\n",
    "sol = solve_ivp(equations, [t[0], t[-1]], params.initial_state, t_eval=t, args=(params,),max_step=dt/10.)\n",
    "```\n",
    "\n",
    "Recall that we know the delta function potential should give a \n",
    "\n",
    "$$ \n",
    "G(\\omega)= \\exp\\left(\\frac{-ct}{2m}\\right) \\frac{\\sin(\\omega_d t)}{m\\omega_d}\n",
    "$$\n",
    "\n",
    "where\n",
    "\n",
    "$$\n",
    "\\omega_d = \\omega_0 \\sqrt{1-\\zeta^2}\n",
    "$$\n",
    "\n",
    "Plot this on top of your differential equation solution and show that they largely agree.\n",
    "\n",
    "*Note:* After you use $dt=0.2$ you can rerun this exercise with $dt=0.1$ and it will look somewhat better but I think the $dt=0.2$ let's you see what's going on a little better when you decomose your forcing function. "
   ]
  },
  {
   "cell_type": "markdown",
   "metadata": {},
   "source": [
    " <div><img src=\"https://clark.physics.illinois.edu/246img/AnsStart.svg\" width=200 align=left alt=\"Answer (end)\"></img><br></div>"
   ]
  },
  {
   "cell_type": "code",
   "execution_count": null,
   "metadata": {
    "tags": [
     "answer-cell"
    ]
   },
   "outputs": [],
   "source": [
    "###ANSWER HERE"
   ]
  },
  {
   "cell_type": "markdown",
   "metadata": {},
   "source": [
    " <div><img src=\"https://clark.physics.illinois.edu/246img/AnsEnd.svg\" width=200 align=left alt=\"Answer (end)\"></img><br></div>"
   ]
  },
  {
   "cell_type": "markdown",
   "metadata": {},
   "source": [
    "Now let's go ahead and instead put a delta function impulse at $t=10$. \n"
   ]
  },
  {
   "cell_type": "markdown",
   "metadata": {},
   "source": [
    " <div><img src=\"https://clark.physics.illinois.edu/246img/AnsStart.svg\" width=200 align=left alt=\"Answer (end)\"></img><br></div>"
   ]
  },
  {
   "cell_type": "code",
   "execution_count": null,
   "metadata": {
    "tags": [
     "answer-cell"
    ]
   },
   "outputs": [],
   "source": [
    "###ANSWER HERE"
   ]
  },
  {
   "cell_type": "markdown",
   "metadata": {},
   "source": [
    " <div><img src=\"https://clark.physics.illinois.edu/246img/AnsEnd.svg\" width=200 align=left alt=\"Answer (end)\"></img><br></div>"
   ]
  },
  {
   "cell_type": "markdown",
   "metadata": {},
   "source": [
    "### b.  Linear Combination of Delta Functions"
   ]
  },
  {
   "cell_type": "markdown",
   "metadata": {},
   "source": [
    "Now we want to write $D_t$ as a linear combination of these $\\delta$ functions. To do this, we will generate a list `D` of DeltaParams so that for every time\n",
    "* `Y_0 = D_t(t)`\n",
    "* `t_1 = t`\n",
    "* `t_2 = t+dt`\n",
    "\n",
    "Check that this produced the correct thing by plotting the discretized version below.\n",
    "```\n",
    "def PlotD(D):\n",
    "    for d in D:\n",
    "        plt.bar(d.t1, d.Y0, width=d.t2 - d.t1, align='edge', alpha=0.5, edgecolor='black')\n",
    "    plt.ylabel(\"Y(t)\")\n",
    "    plt.xlabel(\"t\")\n",
    "plt.plot(t,D_t)\n",
    "PlotD(D)\n",
    "plt.show()\n",
    "```\n"
   ]
  },
  {
   "cell_type": "markdown",
   "metadata": {},
   "source": [
    " <div><img src=\"https://clark.physics.illinois.edu/246img/AnsStart.svg\" width=200 align=left alt=\"Answer (end)\"></img><br></div>"
   ]
  },
  {
   "cell_type": "code",
   "execution_count": null,
   "metadata": {
    "tags": [
     "answer-cell"
    ]
   },
   "outputs": [],
   "source": [
    "###ANSWER HERE"
   ]
  },
  {
   "cell_type": "markdown",
   "metadata": {},
   "source": [
    " <div><img src=\"https://clark.physics.illinois.edu/246img/AnsEnd.svg\" width=200 align=left alt=\"Answer (end)\"></img><br></div>"
   ]
  },
  {
   "cell_type": "markdown",
   "metadata": {},
   "source": [
    "Now we want to go ahead and generate a $x_i(t)$ for every forcing function in the list separately and then let $x(t) = \\sum_i x_i(t)$.  You need the initial conditions of all of your terms to sum to the initial conditions for $x(t)$ (i.e. [1,1]);  I think the easiest way to do this is to make the first term have these initial conditions and the other to have $[0,0]$.  Go ahead and compute all the $x_i(t)$  and plot them to give $x(t)$.  Check that the $x(t)$ that you get out is the same $x(t)$ when you decomposed it into periodic forcing functions. \n",
    "\n"
   ]
  },
  {
   "cell_type": "markdown",
   "metadata": {},
   "source": [
    " <div><img src=\"https://clark.physics.illinois.edu/246img/AnsStart.svg\" width=200 align=left alt=\"Answer (end)\"></img><br></div>"
   ]
  },
  {
   "cell_type": "code",
   "execution_count": null,
   "metadata": {
    "tags": [
     "answer-cell"
    ]
   },
   "outputs": [],
   "source": [
    "###ANSWER HERE"
   ]
  },
  {
   "cell_type": "markdown",
   "metadata": {},
   "source": [
    " <div><img src=\"https://clark.physics.illinois.edu/246img/AnsEnd.svg\" width=200 align=left alt=\"Answer (end)\"></img><br></div>"
   ]
  },
  {
   "cell_type": "markdown",
   "metadata": {},
   "source": [
    "## Exercise 4.  Square Well"
   ]
  },
  {
   "cell_type": "markdown",
   "metadata": {},
   "source": [
    "In this exercise, we are going to work with a square well potential. We will see how both to decompose it into a series of periodic forcing functions as well as delta function forcing functions. "
   ]
  },
  {
   "cell_type": "markdown",
   "metadata": {},
   "source": [
    "### a.  The square well forcing function"
   ]
  },
  {
   "cell_type": "markdown",
   "metadata": {},
   "source": [
    "We will generate our square well using \n",
    "\n",
    "```\n",
    "def GetSquareWave(sampling_rate=500,frequency=0.2,duration=20):\n",
    "    # Parameters\n",
    "    #frequency =   0.2  # Frequency in Hz\n",
    "    amplitude = 1\n",
    "    #duration = 20 # Duration in seconds\n",
    "    #sampling_rate = 500  # Samples per second\n",
    "    duty_cycle = 0.5 # Duty cycle (0 to 1)\n",
    "\n",
    "    # Time vector\n",
    "    t = np.linspace(0, duration, int(sampling_rate * duration), endpoint=False)\n",
    "\n",
    "    # Generate the square wave\n",
    "    square_wave = amplitude * signal.square(2 * np.pi * frequency * t, duty=duty_cycle)\n",
    "    return square_wave,t\n",
    "\n",
    "```\n",
    "\n",
    "Generate a square wave potential $D_t$ and plot it over time. \n",
    "\n"
   ]
  },
  {
   "cell_type": "markdown",
   "metadata": {},
   "source": [
    " <div><img src=\"https://clark.physics.illinois.edu/246img/AnsStart.svg\" width=200 align=left alt=\"Answer (end)\"></img><br></div>"
   ]
  },
  {
   "cell_type": "code",
   "execution_count": null,
   "metadata": {
    "tags": [
     "answer-cell"
    ]
   },
   "outputs": [],
   "source": [
    "###ANSWER HERE"
   ]
  },
  {
   "cell_type": "markdown",
   "metadata": {},
   "source": [
    " <div><img src=\"https://clark.physics.illinois.edu/246img/AnsEnd.svg\" width=200 align=left alt=\"Answer (end)\"></img><br></div>"
   ]
  },
  {
   "cell_type": "markdown",
   "metadata": {},
   "source": [
    "### b.  Fourier transform of square wave"
   ]
  },
  {
   "cell_type": "markdown",
   "metadata": {},
   "source": [
    "Now we'd like to take the fourier transform of the square wave.  This can be done in the same way that you took the fourier transform of your sum of Harmonic forces above. This time, though, instead of just getting two frequencies, you should expect to get many frequencies.  Go ahead and do this and plot both the absolute value and angle.  When plotting the angle it might help to mask it by doing \n",
    "\n",
    "```\n",
    "mask=np.where(np.abs(the_fft)>1e-5*np.max(np.abs(the_fft)))   \n",
    "plt.plot(fft_freqs[mask],np.angle(the_fft[mask]),'o')\n",
    "``` \n",
    "\n",
    "This just ensures that it doesn't plot angles (which are poorly defined) for values of the fft that are essentially zero.\n",
    "\n"
   ]
  },
  {
   "cell_type": "markdown",
   "metadata": {},
   "source": [
    " <div><img src=\"https://clark.physics.illinois.edu/246img/AnsStart.svg\" width=200 align=left alt=\"Answer (end)\"></img><br></div>"
   ]
  },
  {
   "cell_type": "code",
   "execution_count": null,
   "metadata": {
    "tags": [
     "anaswer-cell",
     "answer-cell"
    ]
   },
   "outputs": [],
   "source": [
    "###ANSWER HERE"
   ]
  },
  {
   "cell_type": "markdown",
   "metadata": {},
   "source": [
    " <div><img src=\"https://clark.physics.illinois.edu/246img/AnsEnd.svg\" width=200 align=left alt=\"Answer (end)\"></img><br></div>"
   ]
  },
  {
   "cell_type": "markdown",
   "metadata": {},
   "source": [
    "At this point, we need to figure out how to take this fft information and turn it into a sum over cosines.  \n",
    "\n",
    "Each frequency $f$ corresponds to \n",
    "\n",
    "$$\n",
    "A \\exp[2\\pi i \\times f] = |A|/N \\cos(2\\pi f + arg(A))  +  |A|/N i \\sin (...)\n",
    "$$\n",
    "\n",
    "where $N$ is the sizes of the fft. \n",
    "\n",
    "Use this information to produce a list of displace parameters `myDisplacements` that generate a set of cosines which sum to the square wave. \n",
    "\n",
    "If you've done it correctly, you should get back the square wave by doing\n",
    "\n",
    "```\n",
    "myFunc=np.zeros(len(t),dtype=float)\n",
    "for d in myDisplacements:\n",
    "    myFunc+=GetDisplacement(d,t)\n",
    "plt.plot(t,myFunc)\n",
    "plt.show()\n",
    "```"
   ]
  },
  {
   "cell_type": "markdown",
   "metadata": {},
   "source": [
    " <div><img src=\"https://clark.physics.illinois.edu/246img/AnsStart.svg\" width=200 align=left alt=\"Answer (end)\"></img><br></div>"
   ]
  },
  {
   "cell_type": "code",
   "execution_count": null,
   "metadata": {
    "tags": [
     "answer-cell"
    ]
   },
   "outputs": [],
   "source": [
    "###ANSWER HERE"
   ]
  },
  {
   "cell_type": "markdown",
   "metadata": {},
   "source": [
    " <div><img src=\"https://clark.physics.illinois.edu/246img/AnsEnd.svg\" width=200 align=left alt=\"Answer (end)\"></img><br></div>"
   ]
  },
  {
   "cell_type": "markdown",
   "metadata": {},
   "source": [
    "### c.  Generating $x(t)$ from many Harmonic Forces "
   ]
  },
  {
   "cell_type": "markdown",
   "metadata": {},
   "source": [
    " At this point, we now have a list of Harmonic displacements. We now want to generate $x(t)=\\sum_i x_i(t)$ by solving the differential equation for each Harmonic forcing cosine function independently. Remember you need the initial conditions of all of your terms to sum to the initial conditions for $x(t)$ (i.e. [1,1].) Also remember to use `SHOParams` and not `SHOParams_delta` and to use the `equations` for the Harmonic displacement.\n",
    "\n",
    "\n",
    " "
   ]
  },
  {
   "cell_type": "markdown",
   "metadata": {},
   "source": [
    " <div><img src=\"https://clark.physics.illinois.edu/246img/AnsStart.svg\" width=200 align=left alt=\"Answer (end)\"></img><br></div>"
   ]
  },
  {
   "cell_type": "code",
   "execution_count": null,
   "metadata": {
    "tags": [
     "answer-cell"
    ]
   },
   "outputs": [],
   "source": [
    "###ANSWER HERE"
   ]
  },
  {
   "cell_type": "markdown",
   "metadata": {},
   "source": [
    " <div><img src=\"https://clark.physics.illinois.edu/246img/AnsEnd.svg\" width=200 align=left alt=\"Answer (end)\"></img><br></div>"
   ]
  },
  {
   "cell_type": "markdown",
   "metadata": {},
   "source": [
    "### d. Generate $x(t)$ from many delta functions"
   ]
  },
  {
   "cell_type": "markdown",
   "metadata": {},
   "source": [
    "Now instead of decomposing our square wave into a sum of Harmonic waves, let's instead decompose it into a sum of delta functions.  Do this\n",
    "\n",
    "\n",
    "* Decomposing it into a sum of delta functions\n",
    "* Plotting your decomposition as a bunch of bars like you did above \n",
    "* Then computing $x_i(t)$ for each of these delta functions\n",
    "* Sum them up to make $x(t)=\\sum_i x_i(t)$ \n",
    "\n",
    "You should get the same results as in (c)\n",
    "\n",
    "\n",
    "Make sure you use `max_step/10` in your `sol_ivp` and you are using the appropriate parameters and equations for delta functions."
   ]
  },
  {
   "cell_type": "markdown",
   "metadata": {},
   "source": [
    " <div><img src=\"https://clark.physics.illinois.edu/246img/AnsStart.svg\" width=200 align=left alt=\"Answer (end)\"></img><br></div>"
   ]
  },
  {
   "cell_type": "code",
   "execution_count": null,
   "metadata": {
    "tags": [
     "answer-cell"
    ]
   },
   "outputs": [],
   "source": [
    "###ANSWER HERE"
   ]
  },
  {
   "cell_type": "markdown",
   "metadata": {},
   "source": [
    " <div><img src=\"https://clark.physics.illinois.edu/246img/AnsEnd.svg\" width=200 align=left alt=\"Answer (end)\"></img><br></div>"
   ]
  },
  {
   "cell_type": "markdown",
   "metadata": {},
   "source": []
  }
 ],
 "metadata": {
  "colab": {
   "provenance": []
  },
  "kernelspec": {
   "display_name": "Python 3",
   "name": "python3"
  },
  "language_info": {
   "codemirror_mode": {
    "name": "ipython",
    "version": 3
   },
   "file_extension": ".py",
   "mimetype": "text/x-python",
   "name": "python",
   "nbconvert_exporter": "python",
   "pygments_lexer": "ipython3",
   "version": "3.9.6"
  }
 },
 "nbformat": 4,
 "nbformat_minor": 0
}
